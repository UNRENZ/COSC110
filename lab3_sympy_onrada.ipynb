{
  "nbformat": 4,
  "nbformat_minor": 0,
  "metadata": {
    "colab": {
      "provenance": [],
      "include_colab_link": true
    },
    "kernelspec": {
      "name": "python3",
      "display_name": "Python 3"
    },
    "language_info": {
      "name": "python"
    }
  },
  "cells": [
    {
      "cell_type": "markdown",
      "metadata": {
        "id": "view-in-github",
        "colab_type": "text"
      },
      "source": [
        "<a href=\"https://colab.research.google.com/github/UNRENZ/COSC110/blob/main/lab3_sympy_onrada.ipynb\" target=\"_parent\"><img src=\"https://colab.research.google.com/assets/colab-badge.svg\" alt=\"Open In Colab\"/></a>"
      ]
    },
    {
      "cell_type": "markdown",
      "source": [
        "## Laboratory Activity #3: Introduction to SymPy\n",
        "\n",
        "###Objectives:\n",
        "- Apply basic symbolic calculations using SymPy"
      ],
      "metadata": {
        "id": "ry6k4qR8H7Bq"
      }
    },
    {
      "cell_type": "markdown",
      "source": [
        "#### Task # 1: Include all necessary sympy modules\n",
        "\n",
        "\n"
      ],
      "metadata": {
        "id": "G_Ua0LKbIPfK"
      }
    },
    {
      "cell_type": "code",
      "execution_count": 6,
      "metadata": {
        "id": "DPFz-qLYHiFJ"
      },
      "outputs": [],
      "source": [
        "# Import the relevant sympy modules\n",
        "from sympy import symbols, Eq, solve, simplify, expand, factor, diff, integrate, sin, cos, tan, ln, exp\n",
        "from sympy import init_printing\n",
        "from sympy import sqrt, Rational, N"
      ]
    },
    {
      "cell_type": "markdown",
      "source": [
        "#### Task # 2: Basic calculation\n",
        "Solve for the following:\n",
        "\n",
        "- $\\frac{5}{3} + \\frac{\\sqrt{10}}{2}$\n",
        "- $\\sqrt{50} \\times \\sqrt{\\frac{5}{9}}$"
      ],
      "metadata": {
        "id": "3i4pd__LIl1X"
      }
    },
    {
      "cell_type": "code",
      "source": [
        "# Answer for the first expression here\n",
        "expr1 = Rational(5, 3) + sqrt(10)/2\n",
        "result1 = N(expr1)\n",
        "print(\"1. 5/3 + √10/2 ≈\", result1)"
      ],
      "metadata": {
        "id": "Nk9U7XU8RhEH",
        "colab": {
          "base_uri": "https://localhost:8080/"
        },
        "outputId": "78881900-ca37-4628-f25e-93d8f4794a5e"
      },
      "execution_count": 7,
      "outputs": [
        {
          "output_type": "stream",
          "name": "stdout",
          "text": [
            "1. 5/3 + √10/2 ≈ 3.24780549675086\n"
          ]
        }
      ]
    },
    {
      "cell_type": "code",
      "source": [
        "# Answer for the second expression here\n",
        "expr2 = (sqrt(50) * sqrt(5)) / 9\n",
        "result2 = N(expr2)\n",
        "print(\"2. √50 × √5 / 9 ≈\", result2)"
      ],
      "metadata": {
        "id": "6baME6J6Rgru",
        "colab": {
          "base_uri": "https://localhost:8080/"
        },
        "outputId": "9cba5612-b823-480c-e632-2a30b63ae921"
      },
      "execution_count": 8,
      "outputs": [
        {
          "output_type": "stream",
          "name": "stdout",
          "text": [
            "2. √50 × √5 / 9 ≈ 1.75682092231577\n"
          ]
        }
      ]
    },
    {
      "cell_type": "markdown",
      "source": [
        "#### Task # 3: Symbols\n",
        "Create the equation for the following using `Symbols`:\n",
        "- $2x+3y=12$\n",
        "- $x−y=4$"
      ],
      "metadata": {
        "id": "UH2m4ur7NERn"
      }
    },
    {
      "cell_type": "code",
      "source": [
        "# Answer for the first equation here\n",
        "x, y = symbols('x y')\n",
        "\n",
        "eq1 = Eq(2*x + 3*y, 12)\n",
        "print(\"Equation 1:\", eq1)"
      ],
      "metadata": {
        "id": "4RUw45azRejM",
        "colab": {
          "base_uri": "https://localhost:8080/"
        },
        "outputId": "e2a7bdeb-b570-408e-c26c-8920e0962cd9"
      },
      "execution_count": 10,
      "outputs": [
        {
          "output_type": "stream",
          "name": "stdout",
          "text": [
            "Equation 1: Eq(2*x + 3*y, 12)\n"
          ]
        }
      ]
    },
    {
      "cell_type": "code",
      "source": [
        "# Answer for the second equation here\n",
        "eq2 = Eq(x - y, 4)\n",
        "print(\"Equation 2:\", eq2)"
      ],
      "metadata": {
        "id": "nKlN5AeURwI6",
        "colab": {
          "base_uri": "https://localhost:8080/"
        },
        "outputId": "213f0f00-e5fb-4ee5-dc7c-95a7da1c8b62"
      },
      "execution_count": 12,
      "outputs": [
        {
          "output_type": "stream",
          "name": "stdout",
          "text": [
            "Equation 2: Eq(x - y, 4)\n"
          ]
        }
      ]
    },
    {
      "cell_type": "markdown",
      "source": [
        "#### Task # 3: Simplification\n",
        "Simplify the following equations using the `simplify` method\n",
        "\n",
        "- $\\frac{x^2 + 2x + 1}{x + 1}$\n",
        "\n",
        "- $\\frac{1 - \\frac{1}{1 + \\frac{1}{x}}}{1 + \\frac{1}{x}}\n",
        "$"
      ],
      "metadata": {
        "id": "IS8vTb7FPDbQ"
      }
    },
    {
      "cell_type": "code",
      "source": [
        "# Simplify the first equation here\n",
        "x = symbols('x')\n",
        "expr1 = (x**2 + 2*x + 1) / (x + 1)\n",
        "simplified_expr1 = simplify(expr1)\n",
        "print(\"Simplified Expression 1:\", simplified_expr1)"
      ],
      "metadata": {
        "id": "38CFQlfxR0TV",
        "colab": {
          "base_uri": "https://localhost:8080/"
        },
        "outputId": "fa32c49a-b3c4-43c1-b6e5-26a92c1f0e45"
      },
      "execution_count": 13,
      "outputs": [
        {
          "output_type": "stream",
          "name": "stdout",
          "text": [
            "Simplified Expression 1: x + 1\n"
          ]
        }
      ]
    },
    {
      "cell_type": "code",
      "source": [
        "# Simplify the second equation here\n",
        "expr2 = (1 - (1 / (1 + Rational(1, 2)))) / (1 + 1/x)\n",
        "simplified_expr2 = simplify(expr2)\n",
        "print(\"Simplified Expression 2:\", simplified_expr2)"
      ],
      "metadata": {
        "id": "fSi0XQcWR2uo",
        "colab": {
          "base_uri": "https://localhost:8080/"
        },
        "outputId": "392e727c-8b38-4361-d300-cc51d1086eb6"
      },
      "execution_count": 14,
      "outputs": [
        {
          "output_type": "stream",
          "name": "stdout",
          "text": [
            "Simplified Expression 2: x/(3*(x + 1))\n"
          ]
        }
      ]
    },
    {
      "cell_type": "markdown",
      "source": [
        "### Task # 4: Expansion\n",
        "Expand the following expressions using the `expand` method\n",
        "- $(2x + 2)^2$\n",
        "- $(2x + y)(x - 2y)$\n"
      ],
      "metadata": {
        "id": "oXI_LJ-hRR_n"
      }
    },
    {
      "cell_type": "code",
      "source": [
        "# Expand the first equation here\n",
        "x, y = symbols('x y')\n",
        "\n",
        "expr1 = (2*x + 2)**2\n",
        "expanded_expr1 = expand(expr1)\n",
        "print(\"Expanded Expression 1: (2x + 2)^2 =\", expanded_expr1)"
      ],
      "metadata": {
        "id": "OwjWp39uS0Jb",
        "colab": {
          "base_uri": "https://localhost:8080/"
        },
        "outputId": "d451de80-e905-40d0-c762-735c6e128ad5"
      },
      "execution_count": 16,
      "outputs": [
        {
          "output_type": "stream",
          "name": "stdout",
          "text": [
            "Expanded Expression 1: (2x + 2)^2 = 4*x**2 + 8*x + 4\n"
          ]
        }
      ]
    },
    {
      "cell_type": "code",
      "source": [
        "# Expand the second equation here\n",
        "expr2 = (2*x + y)*(x - 2*y)\n",
        "expanded_expr2 = expand(expr2)\n",
        "print(\"Expanded Expression 2: (2x + y)(x - 2y) =\", expanded_expr2)"
      ],
      "metadata": {
        "id": "g-QEmoMCS6TH",
        "colab": {
          "base_uri": "https://localhost:8080/"
        },
        "outputId": "72a0fbdf-7d8e-4963-c1f9-0d9635a323ad"
      },
      "execution_count": 17,
      "outputs": [
        {
          "output_type": "stream",
          "name": "stdout",
          "text": [
            "Expanded Expression 2: (2x + y)(x - 2y) = 2*x**2 - 3*x*y - 2*y**2\n"
          ]
        }
      ]
    },
    {
      "cell_type": "code",
      "source": [],
      "metadata": {
        "id": "0-X3p62GxULw"
      },
      "execution_count": null,
      "outputs": []
    }
  ]
}